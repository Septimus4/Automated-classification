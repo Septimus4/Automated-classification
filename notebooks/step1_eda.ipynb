{
 "cells": [
  {
   "cell_type": "markdown",
   "id": "88937f15",
   "metadata": {},
   "source": [
    "# Analyse EDA du turnover"
   ]
  },
  {
   "cell_type": "code",
   "execution_count": null,
   "id": "05c52de9",
   "metadata": {},
   "outputs": [],
   "source": [
    "import pandas as pd\n",
    "import matplotlib.pyplot as plt\n",
    "import seaborn as sns"
   ]
  },
  {
   "cell_type": "code",
   "execution_count": null,
   "id": "3ecd708e",
   "metadata": {},
   "outputs": [],
   "source": [
    "sirh=pd.read_csv('extrait_sirh.csv')\n",
    "eval=pd.read_csv('extrait_eval.csv')\n",
    "sondage=pd.read_csv('extrait_sondage.csv')\n",
    "# Join the datasets by column index\n",
    "df=pd.concat([sirh, eval, sondage], axis=1)\n",
    "df.head()"
   ]
  },
  {
   "cell_type": "code",
   "execution_count": null,
   "id": "7b431ed7",
   "metadata": {},
   "outputs": [],
   "source": [
    "# Basic descriptive statistics\n",
    "df.describe(include='all').T"
   ]
  },
  {
   "cell_type": "code",
   "execution_count": null,
   "id": "776313d5",
   "metadata": {},
   "outputs": [],
   "source": [
    "# Compare ages by whether employee left\n",
    "sns.boxplot(x='a_quitte_l_entreprise', y='age', data=df)\n",
    "plt.title('Distribution de l'age selon depart')\n",
    "plt.show()"
   ]
  },
  {
   "cell_type": "code",
   "execution_count": null,
   "id": "88f43f95",
   "metadata": {},
   "outputs": [],
   "source": [
    "# Ratio de depart par departement\n",
    "(df.groupby('departement')['a_quitte_l_entreprise']\n",
    " .value_counts(normalize=True)\n",
    " .rename('ratio')\n",
    " .reset_index())"
   ]
  }
 ],
 "metadata": {},
 "nbformat": 4,
 "nbformat_minor": 5
}
