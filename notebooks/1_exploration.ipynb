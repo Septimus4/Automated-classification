{
 "cells": [
  {
   "cell_type": "markdown",
   "id": "d2d96b39",
   "metadata": {},
   "source": [
    "# Analyse du turnover chez TechNova"
   ]
  },
  {
   "cell_type": "code",
   "execution_count": null,
   "id": "5081baea",
   "metadata": {},
   "outputs": [],
   "source": [
    "import pandas as pd\n",
    "import seaborn as sns\n",
    "import matplotlib.pyplot as plt"
   ]
  },
  {
   "cell_type": "code",
   "execution_count": null,
   "id": "2a7bf867",
   "metadata": {},
   "outputs": [],
   "source": [
    "sirh = pd.read_csv('extrait_sirh.csv')\n",
    "eval = pd.read_csv('extrait_eval.csv')\n",
    "sondage = pd.read_csv('extrait_sondage.csv')\n",
    "df = pd.concat([sirh, eval, sondage], axis=1)\n",
    "df.head()"
   ]
  },
  {
   "cell_type": "markdown",
   "id": "3073e18a",
   "metadata": {},
   "source": [
    "## Statistiques descriptives"
   ]
  },
  {
   "cell_type": "code",
   "execution_count": null,
   "id": "c8a22c9d",
   "metadata": {},
   "outputs": [],
   "source": [
    "df.describe(include='all').T"
   ]
  },
  {
   "cell_type": "markdown",
   "id": "db3359fb",
   "metadata": {},
   "source": [
    "## Graphiques"
   ]
  },
  {
   "cell_type": "code",
   "execution_count": null,
   "id": "e2726f8c",
   "metadata": {},
   "outputs": [],
   "source": [
    "sns.countplot(x='a_quitte_l_entreprise', data=df); plt.show()"
   ]
  }
 ],
 "metadata": {},
 "nbformat": 4,
 "nbformat_minor": 5
}
